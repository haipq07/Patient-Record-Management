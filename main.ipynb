{
 "cells": [
  {
   "cell_type": "code",
   "execution_count": 6,
   "metadata": {},
   "outputs": [],
   "source": [
    "# Import necessary classes\n",
    "from patient_record_mgmt import PatientRecordManagementSystem\n",
    "\n",
    "# Initialize the system\n",
    "prms = PatientRecordManagementSystem()"
   ]
  },
  {
   "cell_type": "code",
   "execution_count": 7,
   "metadata": {},
   "outputs": [
    {
     "name": "stdout",
     "output_type": "stream",
     "text": [
      "Initial Records:\n",
      "ID: 1, Name: Peter Parker, Age: 35, Diagnosis: Flu, Blood Pressure: 120/80, Pulse: 70, Body Temperature: 37.0\n",
      "ID: 3, Name: Clint Barton, Age: 45, Diagnosis: Hypertension, Blood Pressure: 140/90, Pulse: 80, Body Temperature: 36.9\n",
      "ID: 5, Name: Tony Stark, Age: 60, Diagnosis: Arthritis, Blood Pressure: 125/78, Pulse: 72, Body Temperature: 36.7\n",
      "ID: 6, Name: Natasha Romanoff, Age: 32, Diagnosis: Cold, Blood Pressure: 115/75, Pulse: 68, Body Temperature: 37.1\n",
      "ID: 7, Name: Scott Lang, Age: 47, Diagnosis: Cancer, Blood Pressure: 135/88, Pulse: 77, Body Temperature: 37.0\n",
      "ID: 8, Name: Drax, Age: 55, Diagnosis: Heart Disease, Blood Pressure: 145/92, Pulse: 82, Body Temperature: 36.8\n",
      "ID: 9, Name: Wade Wilson, Age: 40, Diagnosis: Flu, Blood Pressure: 120/80, Pulse: 70, Body Temperature: 36.9\n",
      "ID: 10, Name: Professor X, Age: 29, Diagnosis: Pneumonia, Blood Pressure: 130/85, Pulse: 75, Body Temperature: 37.3\n",
      "ID: 11, Name: James Rhodes, Age: 65, Diagnosis: Diabetes, Blood Pressure: 140/90, Pulse: 80, Body Temperature: 37.0\n",
      "ID: 12, Name: Carol Danvers, Age: 38, Diagnosis: Hypertension, Blood Pressure: 110/70, Pulse: 65, Body Temperature: 36.9\n",
      "ID: 15, Name: Thor Odinson, Age: 35, Diagnosis: Cold, Blood Pressure: 115/75, Pulse: 68, Body Temperature: 37.0\n",
      "ID: 16, Name: Mantis, Age: 28, Diagnosis: Cancer, Blood Pressure: 135/88, Pulse: 77, Body Temperature: 37.2\n",
      "ID: 17, Name: Steve Rogers, Age: 55, Diagnosis: Heart Disease, Blood Pressure: 145/92, Pulse: 82, Body Temperature: 36.7\n",
      "ID: 19, Name: Nebula, Age: 32, Diagnosis: Pneumonia, Blood Pressure: 120/80, Pulse: 70, Body Temperature: 36.8\n",
      "ID: 20, Name: Vision, Age: 40, Diagnosis: Diabetes, Blood Pressure: 140/90, Pulse: 80, Body Temperature: 37.3\n",
      "ID: 22, Name: Pepper Potts, Age: 38, Diagnosis: Asthma, Blood Pressure: 120/80, Pulse: 70, Body Temperature: 36.9\n",
      "ID: 23, Name: Bruce Banner, Age: 50, Diagnosis: Arthritis, Blood Pressure: 125/78, Pulse: 72, Body Temperature: 37.1\n",
      "ID: 24, Name: Maria Hill, Age: 45, Diagnosis: Cold, Blood Pressure: 115/75, Pulse: 68, Body Temperature: 36.8\n",
      "ID: 25, Name: Natasha Romanoff, Age: 35, Diagnosis: Cancer, Blood Pressure: 135/88, Pulse: 77, Body Temperature: 37.0\n",
      "ID: 27, Name: Stephen Strange, Age: 55, Diagnosis: Flu, Blood Pressure: 130/85, Pulse: 75, Body Temperature: 36.7\n",
      "ID: 28, Name: Star-Lord, Age: 60, Diagnosis: Pneumonia, Blood Pressure: 120/80, Pulse: 70, Body Temperature: 37.1\n",
      "ID: 29, Name: T'Challa, Age: 32, Diagnosis: Diabetes, Blood Pressure: 140/90, Pulse: 80, Body Temperature: 36.8\n",
      "ID: 30, Name: Wanda Maximoff, Age: 40, Diagnosis: Hypertension, Blood Pressure: 110/70, Pulse: 65, Body Temperature: 37.3\n",
      "ID: 31, Name: Rocket, Age: 65, Diagnosis: Asthma, Blood Pressure: 120/80, Pulse: 70, Body Temperature: 37.0\n",
      "ID: 36, Name: Nick Fury, Age: 28, Diagnosis: Flu, Blood Pressure: 130/85, Pulse: 75, Body Temperature: 37.2\n",
      "ID: 39, Name: Sam Wilson, Age: 32, Diagnosis: Hypertension, Blood Pressure: 110/70, Pulse: 65, Body Temperature: 36.8\n",
      "ID: 40, Name: Bucky Barnes, Age: 40, Diagnosis: Asthma, Blood Pressure: 120/80, Pulse: 70, Body Temperature: 37.3\n",
      "ID: 41, Name: Groot, Age: 65, Diagnosis: Arthritis, Blood Pressure: 125/78, Pulse: 72, Body Temperature: 37.0\n",
      "ID: 45, Name: Loki Laufeyson, Age: 35, Diagnosis: Flu, Blood Pressure: 130/85, Pulse: 75, Body Temperature: 37.0\n",
      "ID: 50, Name: Gamora, Age: 40, Diagnosis: Arthritis, Blood Pressure: 125/78, Pulse: 72, Body Temperature: 37.3\n"
     ]
    },
    {
     "data": {
      "text/plain": [
       "'output\\\\initial_tree.png'"
      ]
     },
     "execution_count": 7,
     "metadata": {},
     "output_type": "execute_result"
    }
   ],
   "source": [
    "\n",
    "# Load data from CSV and display initial records\n",
    "prms.build_tree_from_csv('data/patient_records.csv')\n",
    "print(\"Initial Records:\")\n",
    "prms.display_all_records()\n",
    "\n",
    "# Visualize the initial tree\n",
    "dot = prms.visualize_tree()\n",
    "dot.render('output/initial_tree', view=True, format='png')"
   ]
  },
  {
   "cell_type": "code",
   "execution_count": 8,
   "metadata": {},
   "outputs": [
    {
     "name": "stdout",
     "output_type": "stream",
     "text": [
      "\n",
      "Search Results:\n",
      "No record found for patient ID 2\n",
      "Found: ID: 25, Name: Natasha Romanoff, Age: 35, Diagnosis: Cancer, Blood Pressure: 135/88, Pulse: 77, Body Temperature: 37.0\n",
      "No record found for patient ID 47\n",
      "\n",
      "Records after Deletions:\n",
      "ID: 1, Name: Peter Parker, Age: 35, Diagnosis: Flu, Blood Pressure: 120/80, Pulse: 70, Body Temperature: 37.0\n",
      "ID: 5, Name: Tony Stark, Age: 60, Diagnosis: Arthritis, Blood Pressure: 125/78, Pulse: 72, Body Temperature: 36.7\n",
      "ID: 6, Name: Natasha Romanoff, Age: 32, Diagnosis: Cold, Blood Pressure: 115/75, Pulse: 68, Body Temperature: 37.1\n",
      "ID: 7, Name: Scott Lang, Age: 47, Diagnosis: Cancer, Blood Pressure: 135/88, Pulse: 77, Body Temperature: 37.0\n",
      "ID: 8, Name: Drax, Age: 55, Diagnosis: Heart Disease, Blood Pressure: 145/92, Pulse: 82, Body Temperature: 36.8\n",
      "ID: 9, Name: Wade Wilson, Age: 40, Diagnosis: Flu, Blood Pressure: 120/80, Pulse: 70, Body Temperature: 36.9\n",
      "ID: 10, Name: Professor X, Age: 29, Diagnosis: Pneumonia, Blood Pressure: 130/85, Pulse: 75, Body Temperature: 37.3\n",
      "ID: 12, Name: Carol Danvers, Age: 38, Diagnosis: Hypertension, Blood Pressure: 110/70, Pulse: 65, Body Temperature: 36.9\n",
      "ID: 15, Name: Thor Odinson, Age: 35, Diagnosis: Cold, Blood Pressure: 115/75, Pulse: 68, Body Temperature: 37.0\n",
      "ID: 16, Name: Mantis, Age: 28, Diagnosis: Cancer, Blood Pressure: 135/88, Pulse: 77, Body Temperature: 37.2\n",
      "ID: 17, Name: Steve Rogers, Age: 55, Diagnosis: Heart Disease, Blood Pressure: 145/92, Pulse: 82, Body Temperature: 36.7\n",
      "ID: 19, Name: Nebula, Age: 32, Diagnosis: Pneumonia, Blood Pressure: 120/80, Pulse: 70, Body Temperature: 36.8\n",
      "ID: 20, Name: Vision, Age: 40, Diagnosis: Diabetes, Blood Pressure: 140/90, Pulse: 80, Body Temperature: 37.3\n",
      "ID: 22, Name: Pepper Potts, Age: 38, Diagnosis: Asthma, Blood Pressure: 120/80, Pulse: 70, Body Temperature: 36.9\n",
      "ID: 23, Name: Bruce Banner, Age: 50, Diagnosis: Arthritis, Blood Pressure: 125/78, Pulse: 72, Body Temperature: 37.1\n",
      "ID: 24, Name: Maria Hill, Age: 45, Diagnosis: Cold, Blood Pressure: 115/75, Pulse: 68, Body Temperature: 36.8\n",
      "ID: 25, Name: Natasha Romanoff, Age: 35, Diagnosis: Cancer, Blood Pressure: 135/88, Pulse: 77, Body Temperature: 37.0\n",
      "ID: 27, Name: Stephen Strange, Age: 55, Diagnosis: Flu, Blood Pressure: 130/85, Pulse: 75, Body Temperature: 36.7\n",
      "ID: 28, Name: Star-Lord, Age: 60, Diagnosis: Pneumonia, Blood Pressure: 120/80, Pulse: 70, Body Temperature: 37.1\n",
      "ID: 29, Name: T'Challa, Age: 32, Diagnosis: Diabetes, Blood Pressure: 140/90, Pulse: 80, Body Temperature: 36.8\n",
      "ID: 30, Name: Wanda Maximoff, Age: 40, Diagnosis: Hypertension, Blood Pressure: 110/70, Pulse: 65, Body Temperature: 37.3\n",
      "ID: 36, Name: Nick Fury, Age: 28, Diagnosis: Flu, Blood Pressure: 130/85, Pulse: 75, Body Temperature: 37.2\n",
      "ID: 39, Name: Sam Wilson, Age: 32, Diagnosis: Hypertension, Blood Pressure: 110/70, Pulse: 65, Body Temperature: 36.8\n",
      "ID: 40, Name: Bucky Barnes, Age: 40, Diagnosis: Asthma, Blood Pressure: 120/80, Pulse: 70, Body Temperature: 37.3\n",
      "ID: 41, Name: Groot, Age: 65, Diagnosis: Arthritis, Blood Pressure: 125/78, Pulse: 72, Body Temperature: 37.0\n",
      "ID: 45, Name: Loki Laufeyson, Age: 35, Diagnosis: Flu, Blood Pressure: 130/85, Pulse: 75, Body Temperature: 37.0\n",
      "ID: 50, Name: Gamora, Age: 40, Diagnosis: Arthritis, Blood Pressure: 125/78, Pulse: 72, Body Temperature: 37.3\n"
     ]
    },
    {
     "data": {
      "text/plain": [
       "'output\\\\after_deletion.png'"
      ]
     },
     "execution_count": 8,
     "metadata": {},
     "output_type": "execute_result"
    }
   ],
   "source": [
    "# Search for specific records\n",
    "print(\"\\nSearch Results:\")\n",
    "for patient_id in [2, 25, 47]:\n",
    "    record = prms.search_patient_record(patient_id)\n",
    "    if record:\n",
    "        print(f\"Found: {record}\")\n",
    "    else:\n",
    "        print(f\"No record found for patient ID {patient_id}\")\n",
    "\n",
    "# Delete specific records and display the results\n",
    "print(\"\\nRecords after Deletions:\")\n",
    "for patient_id in [3, 10, 30]:\n",
    "    prms.delete_patient_record(patient_id)\n",
    "prms.display_all_records()\n",
    "# Visualize after deletions\n",
    "dot = prms.visualize_tree()\n",
    "dot.render('output/after_deletion', view=True, format='png')\n"
   ]
  },
  {
   "cell_type": "code",
   "execution_count": 9,
   "metadata": {},
   "outputs": [
    {
     "name": "stdout",
     "output_type": "stream",
     "text": [
      "\n",
      "Records after Insertion:\n",
      "ID: 1, Name: Peter Parker, Age: 35, Diagnosis: Flu, Blood Pressure: 120/80, Pulse: 70, Body Temperature: 37.0\n",
      "ID: 3, Name: Joan Smith, Age: 33, Diagnosis: Anxiety, Blood Pressure: 115/75, Pulse: 68, Body Temperature: 37.1\n",
      "ID: 5, Name: Tony Stark, Age: 60, Diagnosis: Arthritis, Blood Pressure: 125/78, Pulse: 72, Body Temperature: 36.7\n",
      "ID: 6, Name: Natasha Romanoff, Age: 32, Diagnosis: Cold, Blood Pressure: 115/75, Pulse: 68, Body Temperature: 37.1\n",
      "ID: 7, Name: Scott Lang, Age: 47, Diagnosis: Cancer, Blood Pressure: 135/88, Pulse: 77, Body Temperature: 37.0\n",
      "ID: 8, Name: Drax, Age: 55, Diagnosis: Heart Disease, Blood Pressure: 145/92, Pulse: 82, Body Temperature: 36.8\n",
      "ID: 9, Name: Wade Wilson, Age: 40, Diagnosis: Flu, Blood Pressure: 120/80, Pulse: 70, Body Temperature: 36.9\n",
      "ID: 10, Name: Professor X, Age: 29, Diagnosis: Pneumonia, Blood Pressure: 130/85, Pulse: 75, Body Temperature: 37.3\n",
      "ID: 12, Name: Carol Danvers, Age: 38, Diagnosis: Hypertension, Blood Pressure: 110/70, Pulse: 65, Body Temperature: 36.9\n",
      "ID: 15, Name: Thor Odinson, Age: 35, Diagnosis: Cold, Blood Pressure: 115/75, Pulse: 68, Body Temperature: 37.0\n",
      "ID: 16, Name: Mantis, Age: 28, Diagnosis: Cancer, Blood Pressure: 135/88, Pulse: 77, Body Temperature: 37.2\n",
      "ID: 17, Name: Steve Rogers, Age: 55, Diagnosis: Heart Disease, Blood Pressure: 145/92, Pulse: 82, Body Temperature: 36.7\n",
      "ID: 19, Name: Nebula, Age: 32, Diagnosis: Pneumonia, Blood Pressure: 120/80, Pulse: 70, Body Temperature: 36.8\n",
      "ID: 20, Name: Vision, Age: 40, Diagnosis: Diabetes, Blood Pressure: 140/90, Pulse: 80, Body Temperature: 37.3\n",
      "ID: 22, Name: Pepper Potts, Age: 38, Diagnosis: Asthma, Blood Pressure: 120/80, Pulse: 70, Body Temperature: 36.9\n",
      "ID: 23, Name: Bruce Banner, Age: 50, Diagnosis: Arthritis, Blood Pressure: 125/78, Pulse: 72, Body Temperature: 37.1\n",
      "ID: 24, Name: Maria Hill, Age: 45, Diagnosis: Cold, Blood Pressure: 115/75, Pulse: 68, Body Temperature: 36.8\n",
      "ID: 25, Name: Natasha Romanoff, Age: 35, Diagnosis: Cancer, Blood Pressure: 135/88, Pulse: 77, Body Temperature: 37.0\n",
      "ID: 27, Name: Stephen Strange, Age: 55, Diagnosis: Flu, Blood Pressure: 130/85, Pulse: 75, Body Temperature: 36.7\n",
      "ID: 28, Name: Star-Lord, Age: 60, Diagnosis: Pneumonia, Blood Pressure: 120/80, Pulse: 70, Body Temperature: 37.1\n",
      "ID: 29, Name: T'Challa, Age: 32, Diagnosis: Diabetes, Blood Pressure: 140/90, Pulse: 80, Body Temperature: 36.8\n",
      "ID: 30, Name: Wanda Maximoff, Age: 40, Diagnosis: Hypertension, Blood Pressure: 110/70, Pulse: 65, Body Temperature: 37.3\n",
      "ID: 36, Name: Nick Fury, Age: 28, Diagnosis: Flu, Blood Pressure: 130/85, Pulse: 75, Body Temperature: 37.2\n",
      "ID: 39, Name: Sam Wilson, Age: 32, Diagnosis: Hypertension, Blood Pressure: 110/70, Pulse: 65, Body Temperature: 36.8\n",
      "ID: 40, Name: Bucky Barnes, Age: 40, Diagnosis: Asthma, Blood Pressure: 120/80, Pulse: 70, Body Temperature: 37.3\n",
      "ID: 41, Name: Groot, Age: 65, Diagnosis: Arthritis, Blood Pressure: 125/78, Pulse: 72, Body Temperature: 37.0\n",
      "ID: 45, Name: Loki Laufeyson, Age: 35, Diagnosis: Flu, Blood Pressure: 130/85, Pulse: 75, Body Temperature: 37.0\n",
      "ID: 50, Name: Gamora, Age: 40, Diagnosis: Arthritis, Blood Pressure: 125/78, Pulse: 72, Body Temperature: 37.3\n",
      "ID: 51, Name: Jacob Marley, Age: 40, Diagnosis: Migraine, Blood Pressure: 120/80, Pulse: 79, Body Temperature: 37.0\n",
      "ID: 58, Name: Robert Shea, Age: 55, Diagnosis: Back Pain, Blood Pressure: 130/85, Pulse: 75, Body Temperature: 36.8\n"
     ]
    },
    {
     "data": {
      "text/plain": [
       "'output\\\\after_insertion.png'"
      ]
     },
     "execution_count": 9,
     "metadata": {},
     "output_type": "execute_result"
    }
   ],
   "source": [
    "# Insert new records\n",
    "new_records = [\n",
    "    (51, \"Jacob Marley\", 40, \"Migraine\", \"120/80\", 79, 37.0),\n",
    "    (58, \"Robert Shea\", 55, \"Back Pain\", \"130/85\", 75, 36.8),\n",
    "    (3, \"Joan Smith\", 33, \"Anxiety\", \"115/75\", 68, 37.1)\n",
    "]\n",
    "for rec in new_records:\n",
    "    prms.add_patient_record(*rec)\n",
    "\n",
    "# Display all records after insertion\n",
    "print(\"\\nRecords after Insertion:\")\n",
    "prms.display_all_records()\n",
    "\n",
    "# Visualize after insertions\n",
    "dot = prms.visualize_tree()\n",
    "dot.render('output/after_insertion', view=True, format='png')\n"
   ]
  },
  {
   "cell_type": "code",
   "execution_count": 10,
   "metadata": {},
   "outputs": [
    {
     "name": "stdout",
     "output_type": "stream",
     "text": [
      "\n",
      "Inorder Traversal:\n",
      "[<binary_search_tree.Node object at 0x000001839D4CD010>, <binary_search_tree.Node object at 0x000001839D4CDB80>, <binary_search_tree.Node object at 0x000001839D4B63F0>, <binary_search_tree.Node object at 0x000001839D4CD160>, <binary_search_tree.Node object at 0x000001839D4B7980>, <binary_search_tree.Node object at 0x000001839D4CD580>, <binary_search_tree.Node object at 0x000001839D4CCFB0>, <binary_search_tree.Node object at 0x000001839D4B6E40>, <binary_search_tree.Node object at 0x000001839D4B7AD0>, <binary_search_tree.Node object at 0x000001839D4B7D70>, <binary_search_tree.Node object at 0x000001839D4CD640>, <binary_search_tree.Node object at 0x000001839D4B7F80>, <binary_search_tree.Node object at 0x000001839D4CC8C0>, <binary_search_tree.Node object at 0x000001839D4B7320>, <binary_search_tree.Node object at 0x000001839D4CCF50>, <binary_search_tree.Node object at 0x000001839D4B7E90>, <binary_search_tree.Node object at 0x000001839D4CC350>, <binary_search_tree.Node object at 0x000001839D4B77A0>, <binary_search_tree.Node object at 0x000001839D4B73B0>, <binary_search_tree.Node object at 0x000001839D4CC050>, <binary_search_tree.Node object at 0x000001839D4B7710>, <binary_search_tree.Node object at 0x000001839D4B7140>, <binary_search_tree.Node object at 0x000001839D4CD1C0>, <binary_search_tree.Node object at 0x000001839D4CD280>, <binary_search_tree.Node object at 0x000001839D4B7BC0>, <binary_search_tree.Node object at 0x000001839D4CD400>, <binary_search_tree.Node object at 0x000001839D4CC590>, <binary_search_tree.Node object at 0x000001839D4CC3B0>, <binary_search_tree.Node object at 0x000001839D4CDC10>, <binary_search_tree.Node object at 0x000001839D4CDBE0>]\n",
      "\n",
      "Preorder Traversal:\n",
      "[<binary_search_tree.Node object at 0x000001839D4B6E40>, <binary_search_tree.Node object at 0x000001839D4B63F0>, <binary_search_tree.Node object at 0x000001839D4CD010>, <binary_search_tree.Node object at 0x000001839D4CDB80>, <binary_search_tree.Node object at 0x000001839D4B7980>, <binary_search_tree.Node object at 0x000001839D4CD160>, <binary_search_tree.Node object at 0x000001839D4CCFB0>, <binary_search_tree.Node object at 0x000001839D4CD580>, <binary_search_tree.Node object at 0x000001839D4B7F80>, <binary_search_tree.Node object at 0x000001839D4B7D70>, <binary_search_tree.Node object at 0x000001839D4B7AD0>, <binary_search_tree.Node object at 0x000001839D4CD640>, <binary_search_tree.Node object at 0x000001839D4B77A0>, <binary_search_tree.Node object at 0x000001839D4B7E90>, <binary_search_tree.Node object at 0x000001839D4B7320>, <binary_search_tree.Node object at 0x000001839D4CC8C0>, <binary_search_tree.Node object at 0x000001839D4CCF50>, <binary_search_tree.Node object at 0x000001839D4CC350>, <binary_search_tree.Node object at 0x000001839D4B7140>, <binary_search_tree.Node object at 0x000001839D4B73B0>, <binary_search_tree.Node object at 0x000001839D4B7710>, <binary_search_tree.Node object at 0x000001839D4CC050>, <binary_search_tree.Node object at 0x000001839D4B7BC0>, <binary_search_tree.Node object at 0x000001839D4CD280>, <binary_search_tree.Node object at 0x000001839D4CD1C0>, <binary_search_tree.Node object at 0x000001839D4CC590>, <binary_search_tree.Node object at 0x000001839D4CD400>, <binary_search_tree.Node object at 0x000001839D4CC3B0>, <binary_search_tree.Node object at 0x000001839D4CDC10>, <binary_search_tree.Node object at 0x000001839D4CDBE0>]\n",
      "\n",
      "Postorder Traversal:\n",
      "[<binary_search_tree.Node object at 0x000001839D4CDB80>, <binary_search_tree.Node object at 0x000001839D4CD010>, <binary_search_tree.Node object at 0x000001839D4CD160>, <binary_search_tree.Node object at 0x000001839D4CD580>, <binary_search_tree.Node object at 0x000001839D4CCFB0>, <binary_search_tree.Node object at 0x000001839D4B7980>, <binary_search_tree.Node object at 0x000001839D4B63F0>, <binary_search_tree.Node object at 0x000001839D4B7AD0>, <binary_search_tree.Node object at 0x000001839D4CD640>, <binary_search_tree.Node object at 0x000001839D4B7D70>, <binary_search_tree.Node object at 0x000001839D4CC8C0>, <binary_search_tree.Node object at 0x000001839D4CCF50>, <binary_search_tree.Node object at 0x000001839D4B7320>, <binary_search_tree.Node object at 0x000001839D4CC350>, <binary_search_tree.Node object at 0x000001839D4B7E90>, <binary_search_tree.Node object at 0x000001839D4CC050>, <binary_search_tree.Node object at 0x000001839D4B7710>, <binary_search_tree.Node object at 0x000001839D4B73B0>, <binary_search_tree.Node object at 0x000001839D4CD1C0>, <binary_search_tree.Node object at 0x000001839D4CD280>, <binary_search_tree.Node object at 0x000001839D4CD400>, <binary_search_tree.Node object at 0x000001839D4CDBE0>, <binary_search_tree.Node object at 0x000001839D4CDC10>, <binary_search_tree.Node object at 0x000001839D4CC3B0>, <binary_search_tree.Node object at 0x000001839D4CC590>, <binary_search_tree.Node object at 0x000001839D4B7BC0>, <binary_search_tree.Node object at 0x000001839D4B7140>, <binary_search_tree.Node object at 0x000001839D4B77A0>, <binary_search_tree.Node object at 0x000001839D4B7F80>, <binary_search_tree.Node object at 0x000001839D4B6E40>]\n"
     ]
    }
   ],
   "source": [
    "\n",
    "# Display traversal results\n",
    "print(\"\\nInorder Traversal:\")\n",
    "print(prms.bst.inorder_traversal(prms.bst.root))\n",
    "print(\"\\nPreorder Traversal:\")\n",
    "print(prms.bst.preorder_traversal(prms.bst.root))\n",
    "print(\"\\nPostorder Traversal:\")\n",
    "print(prms.bst.postorder_traversal(prms.bst.root))\n"
   ]
  }
 ],
 "metadata": {
  "kernelspec": {
   "display_name": "base",
   "language": "python",
   "name": "python3"
  },
  "language_info": {
   "codemirror_mode": {
    "name": "ipython",
    "version": 3
   },
   "file_extension": ".py",
   "mimetype": "text/x-python",
   "name": "python",
   "nbconvert_exporter": "python",
   "pygments_lexer": "ipython3",
   "version": "3.12.3"
  }
 },
 "nbformat": 4,
 "nbformat_minor": 2
}
